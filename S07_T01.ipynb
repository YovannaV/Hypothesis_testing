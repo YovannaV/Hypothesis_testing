{
 "cells": [
  {
   "cell_type": "markdown",
   "id": "de23b4c5",
   "metadata": {},
   "source": [
    "# S07 T01: Tasca del test d'hipòtesis\n",
    "Aprende a realizar test de hipótesis con Python.\n",
    "___"
   ]
  },
  {
   "cell_type": "code",
   "execution_count": 1,
   "id": "41575b9b",
   "metadata": {},
   "outputs": [],
   "source": [
    "#import basic libraries\n",
    "import numpy as np\n",
    "import pandas as pd\n",
    "import matplotlib.pyplot as plt\n",
    "import seaborn as sns\n",
    "import scipy as scipy\n",
    "from scipy import stats"
   ]
  },
  {
   "cell_type": "code",
   "execution_count": 2,
   "id": "9bbc0c08",
   "metadata": {},
   "outputs": [
    {
     "name": "stderr",
     "output_type": "stream",
     "text": [
      "C:\\Users\\Usuario\\anaconda3\\lib\\site-packages\\IPython\\core\\interactiveshell.py:3165: DtypeWarning: Columns (6) have mixed types.Specify dtype option on import or set low_memory=False.\n",
      "  has_raised = await self.run_ast_nodes(code_ast.body, cell_name,\n"
     ]
    },
    {
     "data": {
      "text/html": [
       "<div>\n",
       "<style scoped>\n",
       "    .dataframe tbody tr th:only-of-type {\n",
       "        vertical-align: middle;\n",
       "    }\n",
       "\n",
       "    .dataframe tbody tr th {\n",
       "        vertical-align: top;\n",
       "    }\n",
       "\n",
       "    .dataframe thead th {\n",
       "        text-align: right;\n",
       "    }\n",
       "</style>\n",
       "<table border=\"1\" class=\"dataframe\">\n",
       "  <thead>\n",
       "    <tr style=\"text-align: right;\">\n",
       "      <th></th>\n",
       "      <th>GAME_ID</th>\n",
       "      <th>TEAM_ID</th>\n",
       "      <th>TEAM_ABBREVIATION</th>\n",
       "      <th>TEAM_CITY</th>\n",
       "      <th>PLAYER_ID</th>\n",
       "      <th>PLAYER_NAME</th>\n",
       "      <th>NICKNAME</th>\n",
       "      <th>START_POSITION</th>\n",
       "      <th>COMMENT</th>\n",
       "      <th>MIN</th>\n",
       "      <th>...</th>\n",
       "      <th>OREB</th>\n",
       "      <th>DREB</th>\n",
       "      <th>REB</th>\n",
       "      <th>AST</th>\n",
       "      <th>STL</th>\n",
       "      <th>BLK</th>\n",
       "      <th>TO</th>\n",
       "      <th>PF</th>\n",
       "      <th>PTS</th>\n",
       "      <th>PLUS_MINUS</th>\n",
       "    </tr>\n",
       "  </thead>\n",
       "  <tbody>\n",
       "    <tr>\n",
       "      <th>0</th>\n",
       "      <td>22100213</td>\n",
       "      <td>1610612764</td>\n",
       "      <td>WAS</td>\n",
       "      <td>Washington</td>\n",
       "      <td>203484</td>\n",
       "      <td>Kentavious Caldwell-Pope</td>\n",
       "      <td>Kentavious</td>\n",
       "      <td>F</td>\n",
       "      <td>NaN</td>\n",
       "      <td>27:41</td>\n",
       "      <td>...</td>\n",
       "      <td>1.0</td>\n",
       "      <td>5.0</td>\n",
       "      <td>6.0</td>\n",
       "      <td>2.0</td>\n",
       "      <td>1.0</td>\n",
       "      <td>0.0</td>\n",
       "      <td>1.0</td>\n",
       "      <td>0.0</td>\n",
       "      <td>3.0</td>\n",
       "      <td>2.0</td>\n",
       "    </tr>\n",
       "    <tr>\n",
       "      <th>1</th>\n",
       "      <td>22100213</td>\n",
       "      <td>1610612764</td>\n",
       "      <td>WAS</td>\n",
       "      <td>Washington</td>\n",
       "      <td>1628398</td>\n",
       "      <td>Kyle Kuzma</td>\n",
       "      <td>Kyle</td>\n",
       "      <td>F</td>\n",
       "      <td>NaN</td>\n",
       "      <td>30:28</td>\n",
       "      <td>...</td>\n",
       "      <td>1.0</td>\n",
       "      <td>4.0</td>\n",
       "      <td>5.0</td>\n",
       "      <td>3.0</td>\n",
       "      <td>1.0</td>\n",
       "      <td>2.0</td>\n",
       "      <td>1.0</td>\n",
       "      <td>1.0</td>\n",
       "      <td>5.0</td>\n",
       "      <td>-14.0</td>\n",
       "    </tr>\n",
       "    <tr>\n",
       "      <th>2</th>\n",
       "      <td>22100213</td>\n",
       "      <td>1610612764</td>\n",
       "      <td>WAS</td>\n",
       "      <td>Washington</td>\n",
       "      <td>1629655</td>\n",
       "      <td>Daniel Gafford</td>\n",
       "      <td>Daniel</td>\n",
       "      <td>C</td>\n",
       "      <td>NaN</td>\n",
       "      <td>24:21</td>\n",
       "      <td>...</td>\n",
       "      <td>2.0</td>\n",
       "      <td>7.0</td>\n",
       "      <td>9.0</td>\n",
       "      <td>1.0</td>\n",
       "      <td>2.0</td>\n",
       "      <td>1.0</td>\n",
       "      <td>1.0</td>\n",
       "      <td>4.0</td>\n",
       "      <td>20.0</td>\n",
       "      <td>-2.0</td>\n",
       "    </tr>\n",
       "    <tr>\n",
       "      <th>3</th>\n",
       "      <td>22100213</td>\n",
       "      <td>1610612764</td>\n",
       "      <td>WAS</td>\n",
       "      <td>Washington</td>\n",
       "      <td>203078</td>\n",
       "      <td>Bradley Beal</td>\n",
       "      <td>Bradley</td>\n",
       "      <td>G</td>\n",
       "      <td>NaN</td>\n",
       "      <td>35:07</td>\n",
       "      <td>...</td>\n",
       "      <td>0.0</td>\n",
       "      <td>3.0</td>\n",
       "      <td>3.0</td>\n",
       "      <td>7.0</td>\n",
       "      <td>2.0</td>\n",
       "      <td>0.0</td>\n",
       "      <td>2.0</td>\n",
       "      <td>3.0</td>\n",
       "      <td>24.0</td>\n",
       "      <td>-9.0</td>\n",
       "    </tr>\n",
       "    <tr>\n",
       "      <th>4</th>\n",
       "      <td>22100213</td>\n",
       "      <td>1610612764</td>\n",
       "      <td>WAS</td>\n",
       "      <td>Washington</td>\n",
       "      <td>203915</td>\n",
       "      <td>Spencer Dinwiddie</td>\n",
       "      <td>Spencer</td>\n",
       "      <td>G</td>\n",
       "      <td>NaN</td>\n",
       "      <td>28:34</td>\n",
       "      <td>...</td>\n",
       "      <td>0.0</td>\n",
       "      <td>3.0</td>\n",
       "      <td>3.0</td>\n",
       "      <td>2.0</td>\n",
       "      <td>0.0</td>\n",
       "      <td>0.0</td>\n",
       "      <td>2.0</td>\n",
       "      <td>1.0</td>\n",
       "      <td>0.0</td>\n",
       "      <td>-5.0</td>\n",
       "    </tr>\n",
       "  </tbody>\n",
       "</table>\n",
       "<p>5 rows × 29 columns</p>\n",
       "</div>"
      ],
      "text/plain": [
       "    GAME_ID     TEAM_ID TEAM_ABBREVIATION   TEAM_CITY  PLAYER_ID  \\\n",
       "0  22100213  1610612764               WAS  Washington     203484   \n",
       "1  22100213  1610612764               WAS  Washington    1628398   \n",
       "2  22100213  1610612764               WAS  Washington    1629655   \n",
       "3  22100213  1610612764               WAS  Washington     203078   \n",
       "4  22100213  1610612764               WAS  Washington     203915   \n",
       "\n",
       "                PLAYER_NAME    NICKNAME START_POSITION COMMENT    MIN  ...  \\\n",
       "0  Kentavious Caldwell-Pope  Kentavious              F     NaN  27:41  ...   \n",
       "1                Kyle Kuzma        Kyle              F     NaN  30:28  ...   \n",
       "2            Daniel Gafford      Daniel              C     NaN  24:21  ...   \n",
       "3              Bradley Beal     Bradley              G     NaN  35:07  ...   \n",
       "4         Spencer Dinwiddie     Spencer              G     NaN  28:34  ...   \n",
       "\n",
       "   OREB  DREB  REB  AST  STL  BLK   TO   PF   PTS  PLUS_MINUS  \n",
       "0   1.0   5.0  6.0  2.0  1.0  0.0  1.0  0.0   3.0         2.0  \n",
       "1   1.0   4.0  5.0  3.0  1.0  2.0  1.0  1.0   5.0       -14.0  \n",
       "2   2.0   7.0  9.0  1.0  2.0  1.0  1.0  4.0  20.0        -2.0  \n",
       "3   0.0   3.0  3.0  7.0  2.0  0.0  2.0  3.0  24.0        -9.0  \n",
       "4   0.0   3.0  3.0  2.0  0.0  0.0  2.0  1.0   0.0        -5.0  \n",
       "\n",
       "[5 rows x 29 columns]"
      ]
     },
     "execution_count": 2,
     "metadata": {},
     "output_type": "execute_result"
    }
   ],
   "source": [
    "#import the dataset\n",
    "nba_dataset = pd.read_csv('games_details.csv')\n",
    "nba_dataset.head()"
   ]
  },
  {
   "cell_type": "code",
   "execution_count": 3,
   "id": "254eef6a",
   "metadata": {},
   "outputs": [
    {
     "name": "stdout",
     "output_type": "stream",
     "text": [
      "<class 'pandas.core.frame.DataFrame'>\n",
      "RangeIndex: 626111 entries, 0 to 626110\n",
      "Data columns (total 29 columns):\n",
      " #   Column             Non-Null Count   Dtype  \n",
      "---  ------             --------------   -----  \n",
      " 0   GAME_ID            626111 non-null  int64  \n",
      " 1   TEAM_ID            626111 non-null  int64  \n",
      " 2   TEAM_ABBREVIATION  626111 non-null  object \n",
      " 3   TEAM_CITY          626111 non-null  object \n",
      " 4   PLAYER_ID          626111 non-null  int64  \n",
      " 5   PLAYER_NAME        626111 non-null  object \n",
      " 6   NICKNAME           10485 non-null   object \n",
      " 7   START_POSITION     239375 non-null  object \n",
      " 8   COMMENT            102359 non-null  object \n",
      " 9   MIN                523751 non-null  object \n",
      " 10  FGM                523751 non-null  float64\n",
      " 11  FGA                523751 non-null  float64\n",
      " 12  FG_PCT             523751 non-null  float64\n",
      " 13  FG3M               523751 non-null  float64\n",
      " 14  FG3A               523751 non-null  float64\n",
      " 15  FG3_PCT            523751 non-null  float64\n",
      " 16  FTM                523751 non-null  float64\n",
      " 17  FTA                523751 non-null  float64\n",
      " 18  FT_PCT             523751 non-null  float64\n",
      " 19  OREB               523751 non-null  float64\n",
      " 20  DREB               523751 non-null  float64\n",
      " 21  REB                523751 non-null  float64\n",
      " 22  AST                523751 non-null  float64\n",
      " 23  STL                523751 non-null  float64\n",
      " 24  BLK                523751 non-null  float64\n",
      " 25  TO                 523751 non-null  float64\n",
      " 26  PF                 523751 non-null  float64\n",
      " 27  PTS                523751 non-null  float64\n",
      " 28  PLUS_MINUS         500090 non-null  float64\n",
      "dtypes: float64(19), int64(3), object(7)\n",
      "memory usage: 138.5+ MB\n"
     ]
    }
   ],
   "source": [
    "nba_dataset.info() #basic info of the dataset"
   ]
  },
  {
   "cell_type": "code",
   "execution_count": 4,
   "id": "7d85eef3",
   "metadata": {},
   "outputs": [
    {
     "data": {
      "text/plain": [
       "GAME_ID                   0\n",
       "TEAM_ID                   0\n",
       "TEAM_ABBREVIATION         0\n",
       "TEAM_CITY                 0\n",
       "PLAYER_ID                 0\n",
       "PLAYER_NAME               0\n",
       "NICKNAME             615626\n",
       "START_POSITION       386736\n",
       "COMMENT              523752\n",
       "MIN                  102360\n",
       "FGM                  102360\n",
       "FGA                  102360\n",
       "FG_PCT               102360\n",
       "FG3M                 102360\n",
       "FG3A                 102360\n",
       "FG3_PCT              102360\n",
       "FTM                  102360\n",
       "FTA                  102360\n",
       "FT_PCT               102360\n",
       "OREB                 102360\n",
       "DREB                 102360\n",
       "REB                  102360\n",
       "AST                  102360\n",
       "STL                  102360\n",
       "BLK                  102360\n",
       "TO                   102360\n",
       "PF                   102360\n",
       "PTS                  102360\n",
       "PLUS_MINUS           126021\n",
       "dtype: int64"
      ]
     },
     "execution_count": 4,
     "metadata": {},
     "output_type": "execute_result"
    }
   ],
   "source": [
    "nba_dataset.isnull().sum() #search for null values"
   ]
  },
  {
   "cell_type": "code",
   "execution_count": 32,
   "id": "303e82dc",
   "metadata": {},
   "outputs": [],
   "source": [
    "def str_to_number(time_str): #function to change the type of data\n",
    "    if not isinstance(time_str, str):\n",
    "        return 0\n",
    "    minutes, *_ = [int(x) for x in time_str.split(':')]\n",
    "    return minutes\n",
    "nba_dataset.MIN = nba_dataset.MIN.apply(str_to_number)"
   ]
  },
  {
   "cell_type": "code",
   "execution_count": 5,
   "id": "93863602",
   "metadata": {},
   "outputs": [],
   "source": [
    "#clean the dataset and null values\n",
    "nba_dataset.update(nba_dataset[['MIN','PTS','FGM','FGA','FG_PCT','FG3M','FG3A','FG3_PCT','FTM', 'FTA', 'FT_PCT','OREB','DREB','REB','AST','STL','BLK','TO','PF','PLUS_MINUS']].fillna(0))\n",
    "nba_dataset.drop(columns=['COMMENT', 'NICKNAME'], inplace=True)"
   ]
  },
  {
   "cell_type": "code",
   "execution_count": 6,
   "id": "69f2fd1f",
   "metadata": {
    "scrolled": true
   },
   "outputs": [
    {
     "data": {
      "text/html": [
       "<div>\n",
       "<style scoped>\n",
       "    .dataframe tbody tr th:only-of-type {\n",
       "        vertical-align: middle;\n",
       "    }\n",
       "\n",
       "    .dataframe tbody tr th {\n",
       "        vertical-align: top;\n",
       "    }\n",
       "\n",
       "    .dataframe thead th {\n",
       "        text-align: right;\n",
       "    }\n",
       "</style>\n",
       "<table border=\"1\" class=\"dataframe\">\n",
       "  <thead>\n",
       "    <tr style=\"text-align: right;\">\n",
       "      <th></th>\n",
       "      <th>GAME_ID</th>\n",
       "      <th>TEAM_ID</th>\n",
       "      <th>PLAYER_ID</th>\n",
       "      <th>FGM</th>\n",
       "      <th>FGA</th>\n",
       "      <th>FG_PCT</th>\n",
       "      <th>FG3M</th>\n",
       "      <th>FG3A</th>\n",
       "      <th>FG3_PCT</th>\n",
       "      <th>FTM</th>\n",
       "      <th>...</th>\n",
       "      <th>OREB</th>\n",
       "      <th>DREB</th>\n",
       "      <th>REB</th>\n",
       "      <th>AST</th>\n",
       "      <th>STL</th>\n",
       "      <th>BLK</th>\n",
       "      <th>TO</th>\n",
       "      <th>PF</th>\n",
       "      <th>PTS</th>\n",
       "      <th>PLUS_MINUS</th>\n",
       "    </tr>\n",
       "  </thead>\n",
       "  <tbody>\n",
       "    <tr>\n",
       "      <th>count</th>\n",
       "      <td>626111.00</td>\n",
       "      <td>6.261110e+05</td>\n",
       "      <td>6.261110e+05</td>\n",
       "      <td>626111.00</td>\n",
       "      <td>626111.00</td>\n",
       "      <td>626111.00</td>\n",
       "      <td>626111.00</td>\n",
       "      <td>626111.00</td>\n",
       "      <td>626111.00</td>\n",
       "      <td>626111.00</td>\n",
       "      <td>...</td>\n",
       "      <td>626111.00</td>\n",
       "      <td>626111.00</td>\n",
       "      <td>626111.00</td>\n",
       "      <td>626111.00</td>\n",
       "      <td>626111.00</td>\n",
       "      <td>626111.00</td>\n",
       "      <td>626111.00</td>\n",
       "      <td>626111.00</td>\n",
       "      <td>626111.00</td>\n",
       "      <td>626111.00</td>\n",
       "    </tr>\n",
       "    <tr>\n",
       "      <th>mean</th>\n",
       "      <td>21645530.61</td>\n",
       "      <td>1.610613e+09</td>\n",
       "      <td>3.451868e+05</td>\n",
       "      <td>2.99</td>\n",
       "      <td>6.59</td>\n",
       "      <td>0.35</td>\n",
       "      <td>0.63</td>\n",
       "      <td>1.77</td>\n",
       "      <td>0.17</td>\n",
       "      <td>1.45</td>\n",
       "      <td>...</td>\n",
       "      <td>0.86</td>\n",
       "      <td>2.53</td>\n",
       "      <td>3.39</td>\n",
       "      <td>1.75</td>\n",
       "      <td>0.60</td>\n",
       "      <td>0.39</td>\n",
       "      <td>1.11</td>\n",
       "      <td>1.68</td>\n",
       "      <td>8.06</td>\n",
       "      <td>-0.00</td>\n",
       "    </tr>\n",
       "    <tr>\n",
       "      <th>std</th>\n",
       "      <td>5656109.87</td>\n",
       "      <td>8.650000e+00</td>\n",
       "      <td>7.461713e+06</td>\n",
       "      <td>3.06</td>\n",
       "      <td>5.94</td>\n",
       "      <td>0.28</td>\n",
       "      <td>1.14</td>\n",
       "      <td>2.44</td>\n",
       "      <td>0.27</td>\n",
       "      <td>2.25</td>\n",
       "      <td>...</td>\n",
       "      <td>1.34</td>\n",
       "      <td>2.70</td>\n",
       "      <td>3.52</td>\n",
       "      <td>2.39</td>\n",
       "      <td>0.93</td>\n",
       "      <td>0.81</td>\n",
       "      <td>1.37</td>\n",
       "      <td>1.56</td>\n",
       "      <td>8.17</td>\n",
       "      <td>9.48</td>\n",
       "    </tr>\n",
       "    <tr>\n",
       "      <th>min</th>\n",
       "      <td>10300001.00</td>\n",
       "      <td>1.610613e+09</td>\n",
       "      <td>1.500000e+01</td>\n",
       "      <td>0.00</td>\n",
       "      <td>0.00</td>\n",
       "      <td>0.00</td>\n",
       "      <td>0.00</td>\n",
       "      <td>0.00</td>\n",
       "      <td>0.00</td>\n",
       "      <td>0.00</td>\n",
       "      <td>...</td>\n",
       "      <td>0.00</td>\n",
       "      <td>0.00</td>\n",
       "      <td>0.00</td>\n",
       "      <td>0.00</td>\n",
       "      <td>0.00</td>\n",
       "      <td>0.00</td>\n",
       "      <td>0.00</td>\n",
       "      <td>0.00</td>\n",
       "      <td>0.00</td>\n",
       "      <td>-57.00</td>\n",
       "    </tr>\n",
       "    <tr>\n",
       "      <th>25%</th>\n",
       "      <td>20600922.00</td>\n",
       "      <td>1.610613e+09</td>\n",
       "      <td>2.419000e+03</td>\n",
       "      <td>0.00</td>\n",
       "      <td>1.00</td>\n",
       "      <td>0.00</td>\n",
       "      <td>0.00</td>\n",
       "      <td>0.00</td>\n",
       "      <td>0.00</td>\n",
       "      <td>0.00</td>\n",
       "      <td>...</td>\n",
       "      <td>0.00</td>\n",
       "      <td>0.00</td>\n",
       "      <td>0.00</td>\n",
       "      <td>0.00</td>\n",
       "      <td>0.00</td>\n",
       "      <td>0.00</td>\n",
       "      <td>0.00</td>\n",
       "      <td>0.00</td>\n",
       "      <td>0.00</td>\n",
       "      <td>-5.00</td>\n",
       "    </tr>\n",
       "    <tr>\n",
       "      <th>50%</th>\n",
       "      <td>21200224.00</td>\n",
       "      <td>1.610613e+09</td>\n",
       "      <td>2.011440e+05</td>\n",
       "      <td>2.00</td>\n",
       "      <td>6.00</td>\n",
       "      <td>0.38</td>\n",
       "      <td>0.00</td>\n",
       "      <td>1.00</td>\n",
       "      <td>0.00</td>\n",
       "      <td>0.00</td>\n",
       "      <td>...</td>\n",
       "      <td>0.00</td>\n",
       "      <td>2.00</td>\n",
       "      <td>3.00</td>\n",
       "      <td>1.00</td>\n",
       "      <td>0.00</td>\n",
       "      <td>0.00</td>\n",
       "      <td>1.00</td>\n",
       "      <td>1.00</td>\n",
       "      <td>6.00</td>\n",
       "      <td>0.00</td>\n",
       "    </tr>\n",
       "    <tr>\n",
       "      <th>75%</th>\n",
       "      <td>21700202.00</td>\n",
       "      <td>1.610613e+09</td>\n",
       "      <td>2.030920e+05</td>\n",
       "      <td>5.00</td>\n",
       "      <td>10.00</td>\n",
       "      <td>0.52</td>\n",
       "      <td>1.00</td>\n",
       "      <td>3.00</td>\n",
       "      <td>0.33</td>\n",
       "      <td>2.00</td>\n",
       "      <td>...</td>\n",
       "      <td>1.00</td>\n",
       "      <td>4.00</td>\n",
       "      <td>5.00</td>\n",
       "      <td>3.00</td>\n",
       "      <td>1.00</td>\n",
       "      <td>1.00</td>\n",
       "      <td>2.00</td>\n",
       "      <td>3.00</td>\n",
       "      <td>13.00</td>\n",
       "      <td>4.00</td>\n",
       "    </tr>\n",
       "    <tr>\n",
       "      <th>max</th>\n",
       "      <td>52000211.00</td>\n",
       "      <td>1.610613e+09</td>\n",
       "      <td>1.962938e+09</td>\n",
       "      <td>28.00</td>\n",
       "      <td>50.00</td>\n",
       "      <td>1.00</td>\n",
       "      <td>14.00</td>\n",
       "      <td>24.00</td>\n",
       "      <td>1.00</td>\n",
       "      <td>26.00</td>\n",
       "      <td>...</td>\n",
       "      <td>18.00</td>\n",
       "      <td>25.00</td>\n",
       "      <td>31.00</td>\n",
       "      <td>25.00</td>\n",
       "      <td>10.00</td>\n",
       "      <td>12.00</td>\n",
       "      <td>12.00</td>\n",
       "      <td>15.00</td>\n",
       "      <td>81.00</td>\n",
       "      <td>57.00</td>\n",
       "    </tr>\n",
       "  </tbody>\n",
       "</table>\n",
       "<p>8 rows × 22 columns</p>\n",
       "</div>"
      ],
      "text/plain": [
       "           GAME_ID       TEAM_ID     PLAYER_ID        FGM        FGA  \\\n",
       "count    626111.00  6.261110e+05  6.261110e+05  626111.00  626111.00   \n",
       "mean   21645530.61  1.610613e+09  3.451868e+05       2.99       6.59   \n",
       "std     5656109.87  8.650000e+00  7.461713e+06       3.06       5.94   \n",
       "min    10300001.00  1.610613e+09  1.500000e+01       0.00       0.00   \n",
       "25%    20600922.00  1.610613e+09  2.419000e+03       0.00       1.00   \n",
       "50%    21200224.00  1.610613e+09  2.011440e+05       2.00       6.00   \n",
       "75%    21700202.00  1.610613e+09  2.030920e+05       5.00      10.00   \n",
       "max    52000211.00  1.610613e+09  1.962938e+09      28.00      50.00   \n",
       "\n",
       "          FG_PCT       FG3M       FG3A    FG3_PCT        FTM  ...       OREB  \\\n",
       "count  626111.00  626111.00  626111.00  626111.00  626111.00  ...  626111.00   \n",
       "mean        0.35       0.63       1.77       0.17       1.45  ...       0.86   \n",
       "std         0.28       1.14       2.44       0.27       2.25  ...       1.34   \n",
       "min         0.00       0.00       0.00       0.00       0.00  ...       0.00   \n",
       "25%         0.00       0.00       0.00       0.00       0.00  ...       0.00   \n",
       "50%         0.38       0.00       1.00       0.00       0.00  ...       0.00   \n",
       "75%         0.52       1.00       3.00       0.33       2.00  ...       1.00   \n",
       "max         1.00      14.00      24.00       1.00      26.00  ...      18.00   \n",
       "\n",
       "            DREB        REB        AST        STL        BLK         TO  \\\n",
       "count  626111.00  626111.00  626111.00  626111.00  626111.00  626111.00   \n",
       "mean        2.53       3.39       1.75       0.60       0.39       1.11   \n",
       "std         2.70       3.52       2.39       0.93       0.81       1.37   \n",
       "min         0.00       0.00       0.00       0.00       0.00       0.00   \n",
       "25%         0.00       0.00       0.00       0.00       0.00       0.00   \n",
       "50%         2.00       3.00       1.00       0.00       0.00       1.00   \n",
       "75%         4.00       5.00       3.00       1.00       1.00       2.00   \n",
       "max        25.00      31.00      25.00      10.00      12.00      12.00   \n",
       "\n",
       "              PF        PTS  PLUS_MINUS  \n",
       "count  626111.00  626111.00   626111.00  \n",
       "mean        1.68       8.06       -0.00  \n",
       "std         1.56       8.17        9.48  \n",
       "min         0.00       0.00      -57.00  \n",
       "25%         0.00       0.00       -5.00  \n",
       "50%         1.00       6.00        0.00  \n",
       "75%         3.00      13.00        4.00  \n",
       "max        15.00      81.00       57.00  \n",
       "\n",
       "[8 rows x 22 columns]"
      ]
     },
     "execution_count": 6,
     "metadata": {},
     "output_type": "execute_result"
    }
   ],
   "source": [
    "nba_dataset.describe().round(2)"
   ]
  },
  {
   "cell_type": "markdown",
   "id": "73bf526a",
   "metadata": {},
   "source": [
    "## Nivel 1\n",
    "- Ejercicio 1: <br>\n",
    "Coge un conjunto de datos de tema deportivo que te guste y selecciona un atributo del conjunto de datos. Calcula el p-valor y di si rechaza la hipótesis nula cogiendo un alfa de 5%. \n",
    "___\n"
   ]
  },
  {
   "cell_type": "markdown",
   "id": "729b4ec5",
   "metadata": {},
   "source": [
    "Para el hyphotesis testing he comenzado realizando un test de normalidad de Shapiro-wilk, el cual evalua una muestra de los datos y cuantifica que tan probable es que los datos tengan una distribucion de campana de Gauss (*Este test es considerado entre los de mayor fiabilidad*)\n",
    "<br> <br>\n",
    "Se empieza el hyphotesis testing con un test de normalidad y se selecciona el atributo 'PTS' (puntos realizados por jugador):<br>\n",
    "- **Null hypothesis (H0):** the sample has a Gaussian distribution \n",
    "- **Alternative hypothesis(Ha):** the sample does not have a Gaussian distribution\n",
    "- **p-value:** to be calculated\n",
    "- **Alpha:** 5%\n",
    "\n",
    "<br>\n",
    "\n",
    "*If the P-value is Greater than the Alpha, Do not Reject the Null*\n",
    "\n",
    "<br>\n",
    "\n",
    "Source:*https://machinelearningmastery.com/a-gentle-introduction-to-normality-tests-in-python/*"
   ]
  },
  {
   "cell_type": "code",
   "execution_count": null,
   "id": "28e044d4",
   "metadata": {},
   "outputs": [],
   "source": [
    "from scipy.stats import shapiro"
   ]
  },
  {
   "cell_type": "code",
   "execution_count": 34,
   "id": "963640a3",
   "metadata": {},
   "outputs": [],
   "source": [
    "data_sample = nba_dataset.sample(400) #sample size recovered from data_sampling sprint"
   ]
  },
  {
   "cell_type": "code",
   "execution_count": 70,
   "id": "463baf9b",
   "metadata": {},
   "outputs": [
    {
     "name": "stdout",
     "output_type": "stream",
     "text": [
      "stat=0.8848692178726196, p=9.857840246805982e-17\n",
      "not Gaussian distribution\n"
     ]
    }
   ],
   "source": [
    "nba_points = data_sample.PTS\n",
    "stat, p = shapiro(nba_points)\n",
    "print('stat={}, p={}'.format(stat, p))\n",
    "\n",
    "if p > 0.05:\n",
    "    print('Gaussian distribution')\n",
    "else:\n",
    "    print('not Gaussian distribution')"
   ]
  },
  {
   "cell_type": "code",
   "execution_count": 67,
   "id": "6d9e6c93",
   "metadata": {},
   "outputs": [
    {
     "data": {
      "image/png": "[encoded data removed]",
      "text/plain": [
       "<Figure size 432x288 with 1 Axes>"
      ]
     },
     "metadata": {
      "needs_background": "light"
     },
     "output_type": "display_data"
    }
   ],
   "source": [
    "norm_test = sns.histplot(data=nba_points, kde=True)"
   ]
  },
  {
   "cell_type": "markdown",
   "id": "6eb63652",
   "metadata": {},
   "source": [
    "El ***p-value*** no es mayor que ***alpha***, por lo que se rechaza la Hipotesis inicial.\n",
    "<br> <br> \n",
    "Ademas, se observa en el histograma como la distribución de los datos se encuentra acumulada sobre la izquierda, por lo que se confirma graficamente que no tenemos una distribución de Gauss normal.\n"
   ]
  },
  {
   "cell_type": "markdown",
   "id": "3bb108e9",
   "metadata": {},
   "source": [
    "## Nivel 2\n",
    "- Ejercicio 2: <br>\n",
    "Continúa con el conjunto de datos de tema deportivo que te guste y selecciona otros dos atributos del conjunto de datos. Calcula los p-valores y di si rechazan la hipótesis nula cogiendo un alfa de 5%.\n",
    "___\n",
    "Primero se han tomado las dos variables a analizar: puntos anotados y minutos jugados, y se realiza un grafico para observar los datos de la muestra y asi poder decidir que tipo de metodo se utilizara para el testeo de la hipotesis."
   ]
  },
  {
   "cell_type": "code",
   "execution_count": 64,
   "id": "8be65c95",
   "metadata": {},
   "outputs": [
    {
     "data": {
      "image/png": "[encoded data removed]",
      "text/plain": [
       "<Figure size 360x360 with 6 Axes>"
      ]
     },
     "metadata": {
      "needs_background": "light"
     },
     "output_type": "display_data"
    }
   ],
   "source": [
    "pairplot = sns.pairplot(data_sample, vars={'PTS', 'MIN'})"
   ]
  },
  {
   "cell_type": "code",
   "execution_count": 69,
   "id": "e55d10e7",
   "metadata": {},
   "outputs": [
    {
     "name": "stdout",
     "output_type": "stream",
     "text": [
      "stat_1=0.9418548941612244, p_1=2.0791477914339218e-11\n",
      "not Gaussian distribution\n"
     ]
    }
   ],
   "source": [
    "nba_mins = data_sample.MIN\n",
    "stat_1, p_1 = shapiro(nba_mins)\n",
    "print('stat_1={}, p_1={}'.format(stat_1, p_1))\n",
    "\n",
    "if p_1 > 0.05:\n",
    "    print('Gaussian distribution')\n",
    "else:\n",
    "    print('not Gaussian distribution')"
   ]
  },
  {
   "cell_type": "markdown",
   "id": "bf2cb0dd",
   "metadata": {},
   "source": [
    "En el ejercicio 1 se ha identificado que la variable 'PTS' no tiene una distribucion normal. Ahora hemos realizado esta misma prueba a la variable 'MIN', y se observa que tampoco tiene una distribucion normal. Asimismo, en el grafico se observa esta distribucion y que las variables tienen relacion, para lo cual la documentación nos indica: \n",
    "<br> \n",
    "<br> **If** Data Is Gaussian:\n",
    "<br> \t*Use Parametric Statistical Methods*\n",
    "<br> **Else**:\n",
    "<br> \t*Use Nonparametric Statistical Methods*\n",
    "\n",
    "<br>\n",
    "Entre los metodos Nonparametric statistical tenemos el metodo de *Spearman Rank Correlation*, el cual utilizaremos para cuantificar la relacion entre las variables analizadas.\n",
    "\n",
    "<br>\n",
    "\n",
    "Por lo que, ahora se calcula la correlacion de dos variables: puntos anotados (PTS) y minutos jugados (MIN) de cada jugador.\n",
    "<br>\n",
    "\n",
    "- **Null hypothesis (H0):** the two variables are independent (los puntos realizados tienen relacion con los minutos jugados)\n",
    "- **Alternative hypothesis(Ha):** the two variables are not independent (los puntos realizados **no** tienen relacion con los minutos jugados)\n",
    "- **p-value:** to be calculated\n",
    "- **Alpha:** 5%\n",
    "\n",
    "<br> Source:\n",
    "*https://machinelearningmastery.com/how-to-calculate-nonparametric-rank-correlation-in-python/*"
   ]
  },
  {
   "cell_type": "code",
   "execution_count": 28,
   "id": "f9bf2bb6",
   "metadata": {},
   "outputs": [],
   "source": [
    "from scipy.stats import spearmanr"
   ]
  },
  {
   "cell_type": "code",
   "execution_count": 72,
   "id": "b64d7147",
   "metadata": {},
   "outputs": [
    {
     "name": "stdout",
     "output_type": "stream",
     "text": [
      "stat_2=0.881044256200883, p_2=1.8344979498077912e-131\n",
      "Variables are correlated (reject H0) p=0.000\n"
     ]
    }
   ],
   "source": [
    "data1 = nba_points\n",
    "data2= nba_mins\n",
    "stat_2, p_2 = spearmanr(data1, data2)\n",
    "print('stat_2={}, p_2={}'.format (stat_2, p_2))\n",
    "if p > 0.05:\n",
    "    print('Variables are uncorrelated (fail to reject H0) p=%.3f' % p_2)\n",
    "else:\n",
    "    print('Variables are correlated (reject H0) p=%.3f' % p_2)"
   ]
  },
  {
   "cell_type": "code",
   "execution_count": 45,
   "id": "2fb00836",
   "metadata": {},
   "outputs": [
    {
     "data": {
      "image/png": "[encoded data removed]",
      "text/plain": [
       "<Figure size 360x360 with 1 Axes>"
      ]
     },
     "metadata": {
      "needs_background": "light"
     },
     "output_type": "display_data"
    }
   ],
   "source": [
    "corr_fig = sns.lmplot(x= 'PTS', y= 'MIN', data=data_sample )"
   ]
  },
  {
   "cell_type": "markdown",
   "id": "7508eb16",
   "metadata": {},
   "source": [
    "En el testeo de hipotesis de este ejercicio, tambien se rechaza la hipotesis nula (H0) pues p < alpha y se observa que las variables son dependientes y tienen una relacion monotonica."
   ]
  },
  {
   "cell_type": "code",
   "execution_count": 52,
   "id": "afb10f99",
   "metadata": {},
   "outputs": [
    {
     "name": "stdout",
     "output_type": "stream",
     "text": [
      "La correlacion entre las variables minutos y puntos es de: 0.81\n"
     ]
    }
   ],
   "source": [
    "#calculate of the correlation\n",
    "corr_min_pts= round(data_sample['MIN'].corr(data_sample['PTS']),2)\n",
    "print('La correlacion entre las variables minutos y puntos es de: {}'.format(corr_min_pts))"
   ]
  },
  {
   "cell_type": "markdown",
   "id": "bb0e7bb3",
   "metadata": {},
   "source": [
    "## Nivel 3\n",
    "- Ejercicio 3: <br>\n",
    "Continúa con el conjunto de datos de tema deportivo que te guste y selecciona tres atributos del conjunto de datos. Calcula el p-valor y di si rechaza la hipótesis nula cogiendo un alfa de 5\n",
    "___\n",
    "Ahora se seleccionan las variables: puntos anotados (PTS), minutos jugados (MIN) y numero de tiros de campo intentados (FGA)."
   ]
  },
  {
   "cell_type": "code",
   "execution_count": 77,
   "id": "69444a68",
   "metadata": {},
   "outputs": [
    {
     "data": {
      "image/png": "[encoded data removed]",
      "text/plain": [
       "<Figure size 540x540 with 12 Axes>"
      ]
     },
     "metadata": {
      "needs_background": "light"
     },
     "output_type": "display_data"
    }
   ],
   "source": [
    "pairplot_2 = sns.pairplot(data_sample, vars={'PTS', 'MIN','FGA'})"
   ]
  },
  {
   "cell_type": "markdown",
   "id": "50d764e7",
   "metadata": {},
   "source": [
    "Realizando un test de normalidad de la variable a incorporar en el analisis (FGA), se observa que esta no tiene una distribucion normal y que, de acuerdo con el scatterplot, es probable que tenga una relacion con las variables MIN y PTS."
   ]
  },
  {
   "cell_type": "markdown",
   "id": "e3cbb1dc",
   "metadata": {},
   "source": [
    "Cuando se tienen mas de dos variables que aparentemente podrian estar relacionadas, utilizamos el *Friedman Test* para comprobar la hipotesis, donde:\n",
    "\n",
    "- **Null hypothesis (H0):** La distribucion de las variables es equivalente\n",
    "- **Alternative hypothesis(Ha):** La distribucion de una o más variables no es equivalente\n",
    "- **p-value:** to be calculated\n",
    "- **Alpha:** 5%\n"
   ]
  },
  {
   "cell_type": "code",
   "execution_count": 80,
   "id": "e6909978",
   "metadata": {},
   "outputs": [
    {
     "name": "stdout",
     "output_type": "stream",
     "text": [
      "stat=493.243, p=0.000\n",
      "Probably different distributions (reject H0)\n"
     ]
    }
   ],
   "source": [
    "from scipy.stats import friedmanchisquare\n",
    "data3 = nba_fga\n",
    "stat_4, p_4 = friedmanchisquare(data1,data2,data3)\n",
    "print('stat=%.3f, p=%.3f' % (stat_4, p_4))\n",
    "if p > 0.05:\n",
    "    print('Probably the same distribution (fail to reject H0)')\n",
    "else:\n",
    "    print('Probably different distributions (reject H0)')"
   ]
  },
  {
   "cell_type": "markdown",
   "id": "48cf2bfa",
   "metadata": {},
   "source": [
    "Para este primer testeo de hipotesis se rechaza la hipotesis de que las variables tienen la misma distribución. Y se procede a revisar si la variable \"FGA\" tiene una distribucion normal, para proceder a decidir que otro metodo se puede utilizar:"
   ]
  },
  {
   "cell_type": "code",
   "execution_count": 159,
   "id": "faeebac6",
   "metadata": {},
   "outputs": [
    {
     "name": "stdout",
     "output_type": "stream",
     "text": [
      "stat=0.9064182043075562, p=5.348019915780251e-15\n",
      "not Gaussian distribution\n"
     ]
    }
   ],
   "source": [
    "nba_fga = data_sample.FGA #check if fga is normal distributed\n",
    "stat_3, p_3 = shapiro(nba_fga)\n",
    "print('stat={}, p={}'.format(stat_3, p_3))\n",
    "\n",
    "if p_3 > 0.05:\n",
    "    print('Gaussian distribution')\n",
    "else:\n",
    "    print('not Gaussian distribution')"
   ]
  },
  {
   "cell_type": "markdown",
   "id": "c0114bb0",
   "metadata": {},
   "source": [
    "Como ninguna de las variables tiene una distribucion normal, se procede a realizar ahora un analisis con el metodo de testeo de hipotesis anterior \"Spearman Rank Correlation\".\n",
    "- **Null hypothesis (H0)**: the 3 variables are independent\n",
    "- **Alternative hypothesis(Ha)**: the 3 variables are not independent\n",
    "- **p-value**: to be calculated\n",
    "- **Alpha**: 5%"
   ]
  },
  {
   "cell_type": "code",
   "execution_count": 108,
   "id": "80b66e3c",
   "metadata": {},
   "outputs": [],
   "source": [
    "df_nba = data_sample[['PTS','MIN','FGA']]\n",
    "r_spearman_1, p_spearman_1 = stats.spearmanr(df_nba,axis=0)"
   ]
  },
  {
   "cell_type": "code",
   "execution_count": 109,
   "id": "d8bc7f87",
   "metadata": {},
   "outputs": [],
   "source": [
    "#I will convert the array in a DF, just for better visuals\n",
    "p_spearman_1_df = pd.DataFrame(p_spearman_1,columns=[\"MIN\", \"PTS\",\"FGA\"])\n",
    "p_spearman_1_df.rename(index={0: \"MIN\", 1: \"PTS\", 2:\"FGA\"},inplace=True)"
   ]
  },
  {
   "cell_type": "code",
   "execution_count": 134,
   "id": "692a80b9",
   "metadata": {},
   "outputs": [
    {
     "data": {
      "text/plain": [
       "<AxesSubplot:>"
      ]
     },
     "execution_count": 134,
     "metadata": {},
     "output_type": "execute_result"
    },
    {
     "data": {
      "image/png": "[encoded data removed]",
      "text/plain": [
       "<Figure size 432x288 with 2 Axes>"
      ]
     },
     "metadata": {
      "needs_background": "light"
     },
     "output_type": "display_data"
    }
   ],
   "source": [
    "# Draw the heatmap with the mask and correct aspect ratio\n",
    "sns.heatmap(p_spearman_1_df, cmap='YlOrRd', annot=True)"
   ]
  },
  {
   "cell_type": "code",
   "execution_count": 135,
   "id": "fb1e0d76",
   "metadata": {},
   "outputs": [
    {
     "data": {
      "text/html": [
       "<div>\n",
       "<style scoped>\n",
       "    .dataframe tbody tr th:only-of-type {\n",
       "        vertical-align: middle;\n",
       "    }\n",
       "\n",
       "    .dataframe tbody tr th {\n",
       "        vertical-align: top;\n",
       "    }\n",
       "\n",
       "    .dataframe thead th {\n",
       "        text-align: right;\n",
       "    }\n",
       "</style>\n",
       "<table border=\"1\" class=\"dataframe\">\n",
       "  <thead>\n",
       "    <tr style=\"text-align: right;\">\n",
       "      <th></th>\n",
       "      <th>MIN</th>\n",
       "      <th>PTS</th>\n",
       "      <th>FGA</th>\n",
       "    </tr>\n",
       "  </thead>\n",
       "  <tbody>\n",
       "    <tr>\n",
       "      <th>MIN</th>\n",
       "      <td>0.000000e+00</td>\n",
       "      <td>1.834498e-131</td>\n",
       "      <td>1.026632e-181</td>\n",
       "    </tr>\n",
       "    <tr>\n",
       "      <th>PTS</th>\n",
       "      <td>1.834498e-131</td>\n",
       "      <td>0.000000e+00</td>\n",
       "      <td>1.556229e-139</td>\n",
       "    </tr>\n",
       "    <tr>\n",
       "      <th>FGA</th>\n",
       "      <td>1.026632e-181</td>\n",
       "      <td>1.556229e-139</td>\n",
       "      <td>0.000000e+00</td>\n",
       "    </tr>\n",
       "  </tbody>\n",
       "</table>\n",
       "</div>"
      ],
      "text/plain": [
       "               MIN            PTS            FGA\n",
       "MIN   0.000000e+00  1.834498e-131  1.026632e-181\n",
       "PTS  1.834498e-131   0.000000e+00  1.556229e-139\n",
       "FGA  1.026632e-181  1.556229e-139   0.000000e+00"
      ]
     },
     "execution_count": 135,
     "metadata": {},
     "output_type": "execute_result"
    }
   ],
   "source": [
    "p_spearman_1_df"
   ]
  },
  {
   "cell_type": "code",
   "execution_count": 163,
   "id": "87dff396",
   "metadata": {},
   "outputs": [
    {
     "name": "stdout",
     "output_type": "stream",
     "text": [
      "MIN  vs  PTS : Variables are correlated (reject H0), p value = 1.8344979498077912e-131\n",
      "MIN  vs  FGA : Variables are correlated (reject H0), p value = 1.026631945278658e-181\n",
      "PTS  vs  MIN : Variables are correlated (reject H0), p value = 1.8344979498077912e-131\n",
      "PTS  vs  FGA : Variables are correlated (reject H0), p value = 1.5562286439733562e-139\n",
      "FGA  vs  MIN : Variables are correlated (reject H0), p value = 1.0266319452789497e-181\n",
      "FGA  vs  PTS : Variables are correlated (reject H0), p value = 1.5562286439733562e-139\n"
     ]
    }
   ],
   "source": [
    "var=[\"MIN\", \"PTS\",\"FGA\"]\n",
    "for i in range(3):\n",
    "    for j in range(3):\n",
    "        if i != j :\n",
    "            p_1_attr = p_spearman_1_df.iloc[i,j]\n",
    "            if p_1_attr > 0.05:\n",
    "                print(var[i],\" vs \",var[j],\n",
    "                      ': Variables are uncorrelated (fail to reject H0), p value = {}'.format(p_1_attr))\n",
    "            else:\n",
    "                print(var[i],\" vs \",var[j],\n",
    "                      ': Variables are correlated (reject H0), p value = {}'.format(p_1_attr))"
   ]
  },
  {
   "cell_type": "markdown",
   "id": "e323e3b8",
   "metadata": {},
   "source": [
    "En el testeo de hipotesis de este ejercicio, tambien se rechaza la hipotesis nula(H0) del test de Spearman, pues p < alpha para todas las variables y se observa que las variables tienen una relacion monotonica."
   ]
  }
 ],
 "metadata": {
  "kernelspec": {
   "display_name": "Python 3",
   "language": "python",
   "name": "python3"
  },
  "language_info": {
   "codemirror_mode": {
    "name": "ipython",
    "version": 3
   },
   "file_extension": ".py",
   "mimetype": "text/x-python",
   "name": "python",
   "nbconvert_exporter": "python",
   "pygments_lexer": "ipython3",
   "version": "3.8.8"
  }
 },
 "nbformat": 4,
 "nbformat_minor": 5
}
